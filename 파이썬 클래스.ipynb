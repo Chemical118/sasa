{
 "cells": [
  {
   "cell_type": "code",
   "execution_count": 15,
   "metadata": {},
   "outputs": [],
   "source": [
    "#클라스 정의\n",
    "class Part:\n",
    "    def __init__(self,id,name,seq,type):\n",
    "        self.id = id\n",
    "        self.name = name\n",
    "        self.sequence=seq\n",
    "        self.type = type\n",
    "        self.location=\"\"\n",
    "    def show_sequence(self):\n",
    "        print(self.sequence)\n",
    "    def show_location(self):\n",
    "        print(self.location)\n",
    "#   def set_location(self):\n",
    "#       print('')\n",
    "        \n",
    "        \n",
    "        \n",
    "class Circuit:\n",
    "    def __init__(self,id,name,type):\n",
    "        self.id=id\n",
    "        self.name=name\n",
    "        self.sequence= \"\"\n",
    "        self.type=type\n",
    "        self.parts=[]\n",
    "    def show_sequence(self):\n",
    "        print(self.sequence)\n",
    "    def show_parts(self):\n",
    "        for p in self.parts:\n",
    "            print(p.name)\n",
    "        print(self.parts)\n",
    "    def set_parts(self,parts):\n",
    "        self.parts = parts\n",
    "        self.sequence = parts+ parts\n",
    "        \n",
    "        \n",
    "        "
   ]
  },
  {
   "cell_type": "code",
   "execution_count": 16,
   "metadata": {},
   "outputs": [],
   "source": [
    "#사용(클라스로부터 객체 설정)\n",
    "mypromoter = Part(1,\"HH\",\"ATGC\", \"Promoter\")\n",
    "myrbs = Part(1,\"SS\",\"TTGG\", \"RBS\")"
   ]
  },
  {
   "cell_type": "code",
   "execution_count": 17,
   "metadata": {},
   "outputs": [
    {
     "name": "stdout",
     "output_type": "stream",
     "text": [
      "SS\n"
     ]
    }
   ],
   "source": [
    "print(myrbs.name)"
   ]
  },
  {
   "cell_type": "code",
   "execution_count": 18,
   "metadata": {},
   "outputs": [
    {
     "name": "stdout",
     "output_type": "stream",
     "text": [
      "RBS\n",
      "1\n",
      "Promoter\n"
     ]
    }
   ],
   "source": [
    "print(myrbs.type)\n",
    "print(myrbs.id)\n",
    "print(mypromoter.type)"
   ]
  },
  {
   "cell_type": "code",
   "execution_count": 19,
   "metadata": {},
   "outputs": [
    {
     "name": "stdout",
     "output_type": "stream",
     "text": [
      "ATGC\n"
     ]
    }
   ],
   "source": [
    "mypromoter.show_sequence()"
   ]
  },
  {
   "cell_type": "code",
   "execution_count": 20,
   "metadata": {},
   "outputs": [],
   "source": [
    "mycircuit= Circuit(1,\"mycircuit\",\"biosensor\")"
   ]
  },
  {
   "cell_type": "markdown",
   "metadata": {},
   "source": []
  },
  {
   "cell_type": "code",
   "execution_count": 21,
   "metadata": {},
   "outputs": [
    {
     "name": "stdout",
     "output_type": "stream",
     "text": [
      "[]\n"
     ]
    }
   ],
   "source": [
    "mycircuit.show_parts()"
   ]
  },
  {
   "cell_type": "code",
   "execution_count": 22,
   "metadata": {},
   "outputs": [],
   "source": [
    "mycircuit.set_parts([mypromoter,myrbs])"
   ]
  },
  {
   "cell_type": "code",
   "execution_count": 23,
   "metadata": {},
   "outputs": [
    {
     "name": "stdout",
     "output_type": "stream",
     "text": [
      "HH\n",
      "SS\n",
      "[<__main__.Part object at 0x00000181F4A971C8>, <__main__.Part object at 0x00000181F4A97248>]\n"
     ]
    }
   ],
   "source": [
    "mycircuit.show_parts()"
   ]
  },
  {
   "cell_type": "code",
   "execution_count": null,
   "metadata": {},
   "outputs": [],
   "source": []
  }
 ],
 "metadata": {
  "kernelspec": {
   "display_name": "Python 3",
   "language": "python",
   "name": "python3"
  },
  "language_info": {
   "codemirror_mode": {
    "name": "ipython",
    "version": 3
   },
   "file_extension": ".py",
   "mimetype": "text/x-python",
   "name": "python",
   "nbconvert_exporter": "python",
   "pygments_lexer": "ipython3",
   "version": "3.7.6"
  }
 },
 "nbformat": 4,
 "nbformat_minor": 4
}
