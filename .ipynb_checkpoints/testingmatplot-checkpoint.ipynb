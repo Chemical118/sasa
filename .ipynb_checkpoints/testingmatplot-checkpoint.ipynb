{
 "cells": [
  {
   "cell_type": "code",
   "execution_count": 6,
   "metadata": {},
   "outputs": [
    {
     "data": {
      "text/plain": [
       "<matplotlib.patches.Rectangle at 0x1ecee598788>"
      ]
     },
     "execution_count": 6,
     "metadata": {},
     "output_type": "execute_result"
    },
    {
     "data": {
      "image/png": "[encoded data removed]",
      "text/plain": [
       "<Figure size 144x144 with 1 Axes>"
      ]
     },
     "metadata": {
      "needs_background": "light"
     },
     "output_type": "display_data"
    }
   ],
   "source": [
    "class Part:\n",
    "    def __init__(self, id, seq, name, type) :\n",
    "        self.id= id\n",
    "        self.seq= seq\n",
    "        self.name= name\n",
    "        self.type= type\n",
    "        self.location = \"\"\n",
    "    def show_sequence(self):\n",
    "        print(self.seq)\n",
    "    def show_location(self):\n",
    "        print(self.location)\n",
    "class Circuit:\n",
    "    def __init__(self, id, name, type):\n",
    "        self.id=id\n",
    "        self.name=name\n",
    "        self.seq= \"\"\n",
    "        self.type=type\n",
    "        self.parts= []     \n",
    "    def set_sequence(self):\n",
    "        for p in self.parts:\n",
    "            self.seq+=p.seq\n",
    "    def show_sequence(self):\n",
    "        print(self.seq)\n",
    "    def show_parts(self):\n",
    "        for p in self.parts:\n",
    "            print(p.name)\n",
    "    def set_parts(self, parts):\n",
    "        self.parts = parts\n",
    "    def set_location(self):\n",
    "        l=1\n",
    "        for p in self.parts:\n",
    "                p.location = l\n",
    "                l+=len(p.seq)\n",
    "\n",
    "Promotera=Part(1, \"ATG\", \"pro a\", \"Promoter\")\n",
    "RBSa=Part(2, \"TTG\", \"rbs a\", \"RBS\")\n",
    "CDSa=Part(3, \"TAT\", \"cds a\", \"CDS\")\n",
    "Terminatora(4, \"GGA\", \"ter a\", \"Terminator\")\n",
    "                \n",
    "import matplotlib.pyplot as plt\n",
    "import matplotlib.patches as patches\n",
    "\n",
    "fig2 = plt.figure(figsize=(2,2))\n",
    "ax2 = fig2.add_subplot(1,1,1)\n",
    "ax2.add_patch(\n",
    "     patches.Rectangle(\n",
    "        (0.01, 0.01),\n",
    "        0.1,\n",
    "        0.1,\n",
    "        color='c'\n",
    "     ) ) "
   ]
  },
  {
   "cell_type": "code",
   "execution_count": 3,
   "metadata": {},
   "outputs": [
    {
     "data": {
      "text/plain": [
       "<matplotlib.patches.Rectangle at 0x1ecee4d82c8>"
      ]
     },
     "execution_count": 3,
     "metadata": {},
     "output_type": "execute_result"
    },
    {
     "data": {
      "image/png": "[encoded data removed]",
      "text/plain": [
       "<Figure size 72x72 with 1 Axes>"
      ]
     },
     "metadata": {
      "needs_background": "light"
     },
     "output_type": "display_data"
    }
   ],
   "source": [
    "import matplotlib.pyplot as plt\n",
    "import matplotlib.patches as patches\n",
    "\n",
    "fig2 = plt.figure(figsize=(1,1))\n",
    "ax2 = fig2.add_subplot(1,1,1)\n",
    "# subplot을 행방향으로 1개, 열방향으로 1개 이중 1번째 subplot \n",
    "ax2.add_patch(\n",
    "     patches.Rectangle(\n",
    "        (0.01, 0.01),\n",
    "        0.1,\n",
    "        0.1,\n",
    "        color='c'\n",
    "        #색에서 k가 검정, b 파랑, g 초록, c 청록(시앙!), m 마젠타, r 빨강, w 흰색, y 노란(?)색, \n",
    "     ) ) "
   ]
  },
  {
   "cell_type": "code",
   "execution_count": null,
   "metadata": {},
   "outputs": [],
   "source": []
  }
 ],
 "metadata": {
  "kernelspec": {
   "display_name": "Python 3",
   "language": "python",
   "name": "python3"
  },
  "language_info": {
   "codemirror_mode": {
    "name": "ipython",
    "version": 3
   },
   "file_extension": ".py",
   "mimetype": "text/x-python",
   "name": "python",
   "nbconvert_exporter": "python",
   "pygments_lexer": "ipython3",
   "version": "3.7.6"
  }
 },
 "nbformat": 4,
 "nbformat_minor": 4
}
