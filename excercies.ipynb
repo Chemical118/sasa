{
 "cells": [
  {
   "cell_type": "markdown",
   "metadata": {},
   "source": [
    "## 함수 만들기"
   ]
  },
  {
   "cell_type": "markdown",
   "metadata": {},
   "source": [
    "- 함수 이름: mycalc\n",
    "- 기능: 입력된 배열 값 모두 더한 후 리턴하기"
   ]
  },
  {
   "cell_type": "markdown",
   "metadata": {},
   "source": [
    "```\n",
    "def 함수이름(파라메터):\n",
    "    return(리턴값)\n",
    "```"
   ]
  },
  {
   "cell_type": "code",
   "execution_count": 5,
   "metadata": {},
   "outputs": [
    {
     "name": "stdout",
     "output_type": "stream",
     "text": [
      "range(0, 10)\n",
      "<class 'range'>\n"
     ]
    }
   ],
   "source": [
    "x = range(10)\n",
    "print(x)\n",
    "print(type(x))"
   ]
  },
  {
   "cell_type": "code",
   "execution_count": null,
   "metadata": {},
   "outputs": [],
   "source": [
    "x = [0,1,2,3,4]\n",
    "mycalc(x) \n",
    "# "
   ]
  },
  {
   "cell_type": "markdown",
   "metadata": {},
   "source": [
    "### 사용"
   ]
  },
  {
   "cell_type": "code",
   "execution_count": null,
   "metadata": {},
   "outputs": [],
   "source": [
    "from mymath import mycalc\n",
    "mycalc(x)"
   ]
  },
  {
   "cell_type": "markdown",
   "metadata": {},
   "source": [
    "# 클래스"
   ]
  },
  {
   "cell_type": "markdown",
   "metadata": {},
   "source": [
    "```\n",
    "class class_name:\n",
    "  def __init__(self, parameters):\n",
    "    self.variable_name = paramters\n",
    "  def function_names:\n",
    "    todo\n",
    "```"
   ]
  },
  {
   "cell_type": "markdown",
   "metadata": {},
   "source": [
    "#### 클래스 정의"
   ]
  },
  {
   "cell_type": "code",
   "execution_count": 32,
   "metadata": {},
   "outputs": [],
   "source": [
    "class Part:\n",
    "    def __init__(self, id, name, seq, type):\n",
    "        self.id = id\n",
    "        self.name = name\n",
    "        self.seq = seq\n",
    "        self.type = type\n",
    "        self.location = \"\"\n",
    "    def show_sequence(self):\n",
    "        print(self.seq)\n",
    "    def show_location(self):\n",
    "        print(self.location)\n",
    "#    def set_location(self):\n",
    "#        todo"
   ]
  },
  {
   "cell_type": "markdown",
   "metadata": {},
   "source": [
    "#### 사용 (클래스로부터 객체 생성)"
   ]
  },
  {
   "cell_type": "code",
   "execution_count": 49,
   "metadata": {},
   "outputs": [],
   "source": [
    "mypromoter = Part(1, \"HH\", \"ATGC\", \"Promoter\")\n",
    "myrbs = Part(1, \"SS\", \"TTGG\", \"RBS\")"
   ]
  },
  {
   "cell_type": "code",
   "execution_count": 50,
   "metadata": {},
   "outputs": [
    {
     "name": "stdout",
     "output_type": "stream",
     "text": [
      "HH\n",
      "RBS\n",
      "ATGC\n"
     ]
    }
   ],
   "source": [
    "print(mypromoter.name)\n",
    "print(myrbs.type)\n",
    "mypromoter.show_sequence()"
   ]
  },
  {
   "cell_type": "code",
   "execution_count": 56,
   "metadata": {},
   "outputs": [],
   "source": [
    "class Circuit:\n",
    "    def __init__(self, id, name, type):\n",
    "        self.id = id\n",
    "        self.name = name\n",
    "        self.seq = \"\"\n",
    "        self.type = type\n",
    "        self.parts = []\n",
    "    def show_sequence(self):\n",
    "        print(self.seq)\n",
    "    def show_parts(self):\n",
    "        for p in self.parts:\n",
    "            print(p.name)\n",
    "    def set_parts(self, parts):\n",
    "        self.parts = parts\n",
    "        self.seq = "
   ]
  },
  {
   "cell_type": "code",
   "execution_count": 57,
   "metadata": {},
   "outputs": [],
   "source": [
    "mycircuit = Circuit(1, \"mycircuit\", \"biosensor\")"
   ]
  },
  {
   "cell_type": "code",
   "execution_count": 58,
   "metadata": {},
   "outputs": [],
   "source": [
    "mycircuit.show_parts()"
   ]
  },
  {
   "cell_type": "code",
   "execution_count": 59,
   "metadata": {},
   "outputs": [],
   "source": [
    "mycircuit.set_parts([mypromoter, myrbs])"
   ]
  },
  {
   "cell_type": "code",
   "execution_count": 55,
   "metadata": {},
   "outputs": [
    {
     "name": "stdout",
     "output_type": "stream",
     "text": [
      "HH\n",
      "SS\n"
     ]
    }
   ],
   "source": [
    "mycircuit.show_parts()"
   ]
  },
  {
   "cell_type": "code",
   "execution_count": 43,
   "metadata": {},
   "outputs": [
    {
     "data": {
      "text/plain": [
       "<__main__.Part at 0x17a9e94edc8>"
      ]
     },
     "execution_count": 43,
     "metadata": {},
     "output_type": "execute_result"
    }
   ],
   "source": [
    "mypromoter"
   ]
  },
  {
   "cell_type": "code",
   "execution_count": null,
   "metadata": {},
   "outputs": [],
   "source": []
  }
 ],
 "metadata": {
  "kernelspec": {
   "display_name": "Python 3",
   "language": "python",
   "name": "python3"
  },
  "language_info": {
   "codemirror_mode": {
    "name": "ipython",
    "version": 3
   },
   "file_extension": ".py",
   "mimetype": "text/x-python",
   "name": "python",
   "nbconvert_exporter": "python",
   "pygments_lexer": "ipython3",
   "version": "3.7.4"
  }
 },
 "nbformat": 4,
 "nbformat_minor": 4
}
