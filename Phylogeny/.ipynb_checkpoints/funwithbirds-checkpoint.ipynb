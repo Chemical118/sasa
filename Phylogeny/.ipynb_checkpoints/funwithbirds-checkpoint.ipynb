{
 "cells": [
  {
   "cell_type": "code",
   "execution_count": 47,
   "metadata": {},
   "outputs": [],
   "source": [
    "class Species:\n",
    "    def __init__(self,name, species, genus,cls):\n",
    "        self.name=name\n",
    "        self.genus=genus\n",
    "        self.species=species\n",
    "        self.cls=cls\n",
    "    def name_genus(self):\n",
    "        print(self.genus)\n",
    "    def name_species(self):\n",
    "        print(self.genus, self.species)\n",
    "    def name_class(self):\n",
    "        print(self.cls)\n",
    "\n",
    "def compare(s1, s2):\n",
    "    if s1.species==s2.species and s1.genus==s2.genus:\n",
    "        print(\"These are the same species:\",s1.genus,s1.species)\n",
    "    elif s1.genus==s2.genus:\n",
    "        print(\"The\",s1.name,\"and\",\"The\",s2.name,\"are the same Genus:\",s1.genus)\n",
    "    elif s1.cls==s2.cls:\n",
    "        print(\"The\",s1.name,\"and\",\"The\",s2.name,\"are the same class: \",s1.cls)"
   ]
  },
  {
   "cell_type": "code",
   "execution_count": 50,
   "metadata": {},
   "outputs": [
    {
     "name": "stdout",
     "output_type": "stream",
     "text": [
      "The House Wren and The Great Tit are the same class:  Aves\n",
      "The Great Tit and The Great Spotted Woodpecker are the same class:  Aves\n",
      "The Great Spotted Woodpecker and The Lesser Spotted Woodpecker are the same Genus: Dendrocopos\n",
      "These are the same species Troglodytes Troglodytes\n"
     ]
    }
   ],
   "source": [
    "SpeciesA=Species(\"House Wren\",\"Troglodytes\", \"Troglodytes\", \"Aves\")\n",
    "SpeciesB=Species(\"Great Tit\",\"Major\", \"Parus\", \"Aves\")\n",
    "SpeciesC=Species(\"Great Spotted Woodpecker\",\"Major\",\"Dendrocopos\",\"Aves\")\n",
    "SpeciesD=Species(\"Lesser Spotted Woodpecker\",\"Minor\",\"Dendrocopos\",\"Aves\")\n",
    "compare(SpeciesA, SpeciesB)\n",
    "compare(SpeciesB, SpeciesC)\n",
    "compare(SpeciesC, SpeciesD)\n",
    "compare(SpeciesA, SpeciesA)"
   ]
  },
  {
   "cell_type": "code",
   "execution_count": 44,
   "metadata": {},
   "outputs": [],
   "source": []
  },
  {
   "cell_type": "code",
   "execution_count": null,
   "metadata": {},
   "outputs": [],
   "source": []
  }
 ],
 "metadata": {
  "kernelspec": {
   "display_name": "Python 3",
   "language": "python",
   "name": "python3"
  },
  "language_info": {
   "codemirror_mode": {
    "name": "ipython",
    "version": 3
   },
   "file_extension": ".py",
   "mimetype": "text/x-python",
   "name": "python",
   "nbconvert_exporter": "python",
   "pygments_lexer": "ipython3",
   "version": "3.7.6"
  }
 },
 "nbformat": 4,
 "nbformat_minor": 4
}
