{
 "cells": [
  {
   "cell_type": "code",
   "execution_count": 30,
   "metadata": {},
   "outputs": [],
   "source": [
    "class class_name:\n",
    "    def __init__(self, parameters):\n",
    "        self.variable_name = parameters"
   ]
  },
  {
   "cell_type": "code",
   "execution_count": 5,
   "metadata": {},
   "outputs": [],
   "source": [
    "class Part:\n",
    "    def __init__(self, id, seq, name, type) :\n",
    "        self.id= id\n",
    "        self.seq= seq\n",
    "        self.name= name\n",
    "        self.type= type\n",
    "        self.location = \"\"\n",
    "    def show_sequence(self):\n",
    "        print(self.seq)\n",
    "    def show_location(self):\n",
    "        print(self.location)"
   ]
  },
  {
   "cell_type": "code",
   "execution_count": 6,
   "metadata": {},
   "outputs": [],
   "source": [
    "apromoter=Part(1, \"AGCT\", \"Ap\", \"Promoter\")\n",
    "bpromoter=Part(2, \"CCTA\", \"Bp\", \"Promoter\")\n",
    "cterminator=Part(3,\"ATCA\", \"Ct\", \"Terminator\")"
   ]
  },
  {
   "cell_type": "code",
   "execution_count": 7,
   "metadata": {},
   "outputs": [
    {
     "name": "stdout",
     "output_type": "stream",
     "text": [
      "AGCT\n"
     ]
    }
   ],
   "source": [
    "print(apromoter.seq)"
   ]
  },
  {
   "cell_type": "code",
   "execution_count": 8,
   "metadata": {},
   "outputs": [
    {
     "name": "stdout",
     "output_type": "stream",
     "text": [
      "AGCT\n"
     ]
    }
   ],
   "source": [
    "apromoter.show_sequence()"
   ]
  },
  {
   "cell_type": "code",
   "execution_count": 9,
   "metadata": {},
   "outputs": [],
   "source": [
    "class Circuit:\n",
    "    def __init__(self, id, name, type):\n",
    "        self.id=id\n",
    "        self.name=name\n",
    "        self.seq= \"\"\n",
    "        self.type=type\n",
    "        self.parts= []\n",
    "        \n",
    "        \n",
    "        \n",
    "    def set_sequence(self):\n",
    "        for p in self.parts:\n",
    "            self.seq+=p.seq\n",
    "    def show_sequence(self):\n",
    "        print(self.seq)\n",
    "    \n",
    "    \n",
    "    \n",
    "    def show_parts(self):\n",
    "        for p in self.parts:\n",
    "            print(p.name)\n",
    "    def set_parts(self, parts):\n",
    "        self.parts = parts\n",
    "        \n",
    "        \n",
    "        \n",
    "    def set_location(self):\n",
    "        l=1\n",
    "        for p in self.parts:\n",
    "                p.location = l\n",
    "                l+=len(p.seq)"
   ]
  },
  {
   "cell_type": "code",
   "execution_count": 10,
   "metadata": {},
   "outputs": [],
   "source": [
    "acircuit=Circuit(1, \"Angs\", \"biosensor\")"
   ]
  },
  {
   "cell_type": "code",
   "execution_count": null,
   "metadata": {},
   "outputs": [],
   "source": []
  },
  {
   "cell_type": "code",
   "execution_count": 11,
   "metadata": {},
   "outputs": [
    {
     "name": "stdout",
     "output_type": "stream",
     "text": [
      "Angs\n"
     ]
    }
   ],
   "source": [
    "print(acircuit.name)"
   ]
  },
  {
   "cell_type": "code",
   "execution_count": 12,
   "metadata": {},
   "outputs": [],
   "source": [
    "acircuit.set_parts([apromoter, bpromoter, cterminator])"
   ]
  },
  {
   "cell_type": "code",
   "execution_count": null,
   "metadata": {},
   "outputs": [],
   "source": []
  },
  {
   "cell_type": "code",
   "execution_count": 13,
   "metadata": {},
   "outputs": [],
   "source": [
    "acircuit.set_sequence()"
   ]
  },
  {
   "cell_type": "code",
   "execution_count": 14,
   "metadata": {},
   "outputs": [
    {
     "name": "stdout",
     "output_type": "stream",
     "text": [
      "Ap\n",
      "Bp\n",
      "Ct\n"
     ]
    }
   ],
   "source": [
    "acircuit.show_parts()"
   ]
  },
  {
   "cell_type": "code",
   "execution_count": 15,
   "metadata": {},
   "outputs": [],
   "source": [
    "acircuit.set_location()"
   ]
  },
  {
   "cell_type": "code",
   "execution_count": 16,
   "metadata": {},
   "outputs": [
    {
     "name": "stdout",
     "output_type": "stream",
     "text": [
      "AGCTCCTAATCA\n"
     ]
    }
   ],
   "source": [
    "acircuit.show_sequence()"
   ]
  },
  {
   "cell_type": "code",
   "execution_count": 17,
   "metadata": {},
   "outputs": [],
   "source": [
    "acircuit.set_location()"
   ]
  },
  {
   "cell_type": "code",
   "execution_count": 18,
   "metadata": {},
   "outputs": [
    {
     "name": "stdout",
     "output_type": "stream",
     "text": [
      "1\n"
     ]
    }
   ],
   "source": [
    "apromoter.show_location()"
   ]
  },
  {
   "cell_type": "code",
   "execution_count": 19,
   "metadata": {},
   "outputs": [
    {
     "name": "stdout",
     "output_type": "stream",
     "text": [
      "5\n"
     ]
    }
   ],
   "source": [
    "bpromoter.show_location()"
   ]
  },
  {
   "cell_type": "code",
   "execution_count": 20,
   "metadata": {},
   "outputs": [
    {
     "name": "stdout",
     "output_type": "stream",
     "text": [
      "9\n"
     ]
    }
   ],
   "source": [
    "cterminator.show_location()"
   ]
  },
  {
   "cell_type": "code",
   "execution_count": null,
   "metadata": {},
   "outputs": [],
   "source": []
  }
 ],
 "metadata": {
  "kernelspec": {
   "display_name": "Python 3",
   "language": "python",
   "name": "python3"
  },
  "language_info": {
   "codemirror_mode": {
    "name": "ipython",
    "version": 3
   },
   "file_extension": ".py",
   "mimetype": "text/x-python",
   "name": "python",
   "nbconvert_exporter": "python",
   "pygments_lexer": "ipython3",
   "version": "3.7.6"
  }
 },
 "nbformat": 4,
 "nbformat_minor": 4
}
